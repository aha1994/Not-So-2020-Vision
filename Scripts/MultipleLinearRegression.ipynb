{
 "cells": [
  {
   "cell_type": "code",
   "execution_count": 1,
   "metadata": {},
   "outputs": [],
   "source": [
    "from sklearn.linear_model import LinearRegression\n",
    "import matplotlib.pyplot as plt\n",
    "import numpy as np\n",
    "import pandas as pd\n",
    "from sklearn.model_selection import train_test_split"
   ]
  },
  {
   "cell_type": "code",
   "execution_count": 2,
   "metadata": {},
   "outputs": [],
   "source": [
    "df2016 = pd.read_csv('../Data/Final Data/data2016.csv')"
   ]
  },
  {
   "cell_type": "code",
   "execution_count": 3,
   "metadata": {},
   "outputs": [
    {
     "data": {
      "text/html": [
       "<div>\n",
       "<style scoped>\n",
       "    .dataframe tbody tr th:only-of-type {\n",
       "        vertical-align: middle;\n",
       "    }\n",
       "\n",
       "    .dataframe tbody tr th {\n",
       "        vertical-align: top;\n",
       "    }\n",
       "\n",
       "    .dataframe thead th {\n",
       "        text-align: right;\n",
       "    }\n",
       "</style>\n",
       "<table border=\"1\" class=\"dataframe\">\n",
       "  <thead>\n",
       "    <tr style=\"text-align: right;\">\n",
       "      <th></th>\n",
       "      <th>State</th>\n",
       "      <th>ST</th>\n",
       "      <th>FIPS</th>\n",
       "      <th>County</th>\n",
       "      <th>Democrats 2016</th>\n",
       "      <th>Republicans 2016</th>\n",
       "      <th>Green 2016</th>\n",
       "      <th>Libertarians 2016</th>\n",
       "      <th>winner</th>\n",
       "      <th>poor_health</th>\n",
       "      <th>...</th>\n",
       "      <th>unemployment</th>\n",
       "      <th>children_poverty</th>\n",
       "      <th>income_inequality</th>\n",
       "      <th>single_parent</th>\n",
       "      <th>violent_crime</th>\n",
       "      <th>air_polution</th>\n",
       "      <th>non_hispanic_african_american</th>\n",
       "      <th>non_hispanic_white</th>\n",
       "      <th>not_proficient_english</th>\n",
       "      <th>household_income</th>\n",
       "    </tr>\n",
       "  </thead>\n",
       "  <tbody>\n",
       "    <tr>\n",
       "      <th>0</th>\n",
       "      <td>Alabama</td>\n",
       "      <td>AL</td>\n",
       "      <td>1001</td>\n",
       "      <td>Autauga County, Alabama</td>\n",
       "      <td>0.239569</td>\n",
       "      <td>0.734358</td>\n",
       "      <td>0.004258</td>\n",
       "      <td>0.021816</td>\n",
       "      <td>republican</td>\n",
       "      <td>0.194</td>\n",
       "      <td>...</td>\n",
       "      <td>0.059</td>\n",
       "      <td>0.181</td>\n",
       "      <td>4.303</td>\n",
       "      <td>0.273</td>\n",
       "      <td>253.645</td>\n",
       "      <td>12.92</td>\n",
       "      <td>0.185</td>\n",
       "      <td>0.756</td>\n",
       "      <td>0.005</td>\n",
       "      <td>54366</td>\n",
       "    </tr>\n",
       "    <tr>\n",
       "      <th>1</th>\n",
       "      <td>Alabama</td>\n",
       "      <td>AL</td>\n",
       "      <td>1003</td>\n",
       "      <td>Baldwin County, Alabama</td>\n",
       "      <td>0.195653</td>\n",
       "      <td>0.773515</td>\n",
       "      <td>0.004815</td>\n",
       "      <td>0.026018</td>\n",
       "      <td>republican</td>\n",
       "      <td>0.160</td>\n",
       "      <td>...</td>\n",
       "      <td>0.061</td>\n",
       "      <td>0.198</td>\n",
       "      <td>4.495</td>\n",
       "      <td>0.282</td>\n",
       "      <td>220.665</td>\n",
       "      <td>13.13</td>\n",
       "      <td>0.094</td>\n",
       "      <td>0.830</td>\n",
       "      <td>0.014</td>\n",
       "      <td>49626</td>\n",
       "    </tr>\n",
       "    <tr>\n",
       "      <th>2</th>\n",
       "      <td>Alabama</td>\n",
       "      <td>AL</td>\n",
       "      <td>1005</td>\n",
       "      <td>Barbour County, Alabama</td>\n",
       "      <td>0.466603</td>\n",
       "      <td>0.522714</td>\n",
       "      <td>0.001732</td>\n",
       "      <td>0.008951</td>\n",
       "      <td>republican</td>\n",
       "      <td>0.257</td>\n",
       "      <td>...</td>\n",
       "      <td>0.108</td>\n",
       "      <td>0.381</td>\n",
       "      <td>5.286</td>\n",
       "      <td>0.545</td>\n",
       "      <td>146.889</td>\n",
       "      <td>12.62</td>\n",
       "      <td>0.472</td>\n",
       "      <td>0.466</td>\n",
       "      <td>0.022</td>\n",
       "      <td>34971</td>\n",
       "    </tr>\n",
       "    <tr>\n",
       "      <th>3</th>\n",
       "      <td>Alabama</td>\n",
       "      <td>AL</td>\n",
       "      <td>1007</td>\n",
       "      <td>Bibb County, Alabama</td>\n",
       "      <td>0.214220</td>\n",
       "      <td>0.769662</td>\n",
       "      <td>0.001943</td>\n",
       "      <td>0.014175</td>\n",
       "      <td>republican</td>\n",
       "      <td>0.220</td>\n",
       "      <td>...</td>\n",
       "      <td>0.071</td>\n",
       "      <td>0.268</td>\n",
       "      <td>4.251</td>\n",
       "      <td>0.320</td>\n",
       "      <td>235.952</td>\n",
       "      <td>12.87</td>\n",
       "      <td>0.219</td>\n",
       "      <td>0.745</td>\n",
       "      <td>0.005</td>\n",
       "      <td>39546</td>\n",
       "    </tr>\n",
       "    <tr>\n",
       "      <th>4</th>\n",
       "      <td>Alabama</td>\n",
       "      <td>AL</td>\n",
       "      <td>1009</td>\n",
       "      <td>Blount County, Alabama</td>\n",
       "      <td>0.084699</td>\n",
       "      <td>0.898519</td>\n",
       "      <td>0.003506</td>\n",
       "      <td>0.013276</td>\n",
       "      <td>republican</td>\n",
       "      <td>0.207</td>\n",
       "      <td>...</td>\n",
       "      <td>0.061</td>\n",
       "      <td>0.241</td>\n",
       "      <td>4.124</td>\n",
       "      <td>0.283</td>\n",
       "      <td>219.034</td>\n",
       "      <td>12.66</td>\n",
       "      <td>0.016</td>\n",
       "      <td>0.878</td>\n",
       "      <td>0.018</td>\n",
       "      <td>45567</td>\n",
       "    </tr>\n",
       "  </tbody>\n",
       "</table>\n",
       "<p>5 rows × 28 columns</p>\n",
       "</div>"
      ],
      "text/plain": [
       "     State  ST  FIPS                   County  Democrats 2016  \\\n",
       "0  Alabama  AL  1001  Autauga County, Alabama        0.239569   \n",
       "1  Alabama  AL  1003  Baldwin County, Alabama        0.195653   \n",
       "2  Alabama  AL  1005  Barbour County, Alabama        0.466603   \n",
       "3  Alabama  AL  1007     Bibb County, Alabama        0.214220   \n",
       "4  Alabama  AL  1009   Blount County, Alabama        0.084699   \n",
       "\n",
       "   Republicans 2016  Green 2016  Libertarians 2016      winner  poor_health  \\\n",
       "0          0.734358    0.004258           0.021816  republican        0.194   \n",
       "1          0.773515    0.004815           0.026018  republican        0.160   \n",
       "2          0.522714    0.001732           0.008951  republican        0.257   \n",
       "3          0.769662    0.001943           0.014175  republican        0.220   \n",
       "4          0.898519    0.003506           0.013276  republican        0.207   \n",
       "\n",
       "   ...  unemployment  children_poverty  income_inequality  single_parent  \\\n",
       "0  ...         0.059             0.181              4.303          0.273   \n",
       "1  ...         0.061             0.198              4.495          0.282   \n",
       "2  ...         0.108             0.381              5.286          0.545   \n",
       "3  ...         0.071             0.268              4.251          0.320   \n",
       "4  ...         0.061             0.241              4.124          0.283   \n",
       "\n",
       "   violent_crime  air_polution  non_hispanic_african_american  \\\n",
       "0        253.645         12.92                          0.185   \n",
       "1        220.665         13.13                          0.094   \n",
       "2        146.889         12.62                          0.472   \n",
       "3        235.952         12.87                          0.219   \n",
       "4        219.034         12.66                          0.016   \n",
       "\n",
       "   non_hispanic_white  not_proficient_english  household_income  \n",
       "0               0.756                   0.005             54366  \n",
       "1               0.830                   0.014             49626  \n",
       "2               0.466                   0.022             34971  \n",
       "3               0.745                   0.005             39546  \n",
       "4               0.878                   0.018             45567  \n",
       "\n",
       "[5 rows x 28 columns]"
      ]
     },
     "execution_count": 3,
     "metadata": {},
     "output_type": "execute_result"
    }
   ],
   "source": [
    "df2016.head()"
   ]
  },
  {
   "cell_type": "code",
   "execution_count": 4,
   "metadata": {},
   "outputs": [
    {
     "data": {
      "text/plain": [
       "((3109, 19), (3109, 1))"
      ]
     },
     "execution_count": 4,
     "metadata": {},
     "output_type": "execute_result"
    }
   ],
   "source": [
    "# assign inputs and output values\n",
    "X = df2016.iloc[:,9:]\n",
    "percentDem = df2016.iloc[:,4].values.reshape(-1,1)\n",
    "X.shape, percentDem.shape"
   ]
  },
  {
   "cell_type": "code",
   "execution_count": 5,
   "metadata": {},
   "outputs": [],
   "source": [
    "# Test Train Split\n",
    "from sklearn.model_selection import train_test_split\n",
    "X_train, X_test, y_train, y_test = train_test_split(X, percentDem, random_state=42)"
   ]
  },
  {
   "cell_type": "code",
   "execution_count": 6,
   "metadata": {},
   "outputs": [],
   "source": [
    "# Scale the data\n",
    "from sklearn.preprocessing import StandardScaler\n",
    "X_scaler = StandardScaler().fit(X_train)\n",
    "y_scaler = StandardScaler().fit(y_train)"
   ]
  },
  {
   "cell_type": "code",
   "execution_count": 7,
   "metadata": {},
   "outputs": [],
   "source": [
    "# build model\n",
    "from sklearn.linear_model import LinearRegression\n",
    "model = LinearRegression()"
   ]
  },
  {
   "cell_type": "code",
   "execution_count": 8,
   "metadata": {},
   "outputs": [],
   "source": [
    "# fit model\n",
    "model.fit(X_train, y_train)\n",
    "training_score = model.score(X_train, y_train)\n",
    "testing_score = model.score(X_test, y_test)"
   ]
  },
  {
   "cell_type": "code",
   "execution_count": 9,
   "metadata": {},
   "outputs": [
    {
     "name": "stdout",
     "output_type": "stream",
     "text": [
      "Training Score: 0.749283098160018\n",
      "Testing Score: 0.7475293474713838\n"
     ]
    }
   ],
   "source": [
    "# Scoring model\n",
    "print(f\"Training Score: {training_score}\")\n",
    "print(f\"Testing Score: {testing_score}\")"
   ]
  },
  {
   "cell_type": "code",
   "execution_count": 10,
   "metadata": {},
   "outputs": [
    {
     "data": {
      "text/plain": [
       "LinearRegression(copy_X=True, fit_intercept=True, n_jobs=None, normalize=False)"
      ]
     },
     "execution_count": 10,
     "metadata": {},
     "output_type": "execute_result"
    }
   ],
   "source": [
    "model"
   ]
  },
  {
   "cell_type": "code",
   "execution_count": 11,
   "metadata": {},
   "outputs": [],
   "source": [
    "from sklearn.model_selection import GridSearchCV\n",
    "param_grid = {'copy_X': ['True', 'False'],\n",
    "              'fit_intercept': ['True', 'False'],\n",
    "              'n_jobs': [-1,0,1,'none'],\n",
    "              'normalize': ['True', 'False'],\n",
    "             }\n",
    "grid = GridSearchCV(model, param_grid, verbose=3)"
   ]
  },
  {
   "cell_type": "code",
   "execution_count": 12,
   "metadata": {},
   "outputs": [
    {
     "name": "stdout",
     "output_type": "stream",
     "text": [
      "Fitting 3 folds for each of 32 candidates, totalling 96 fits\n",
      "[CV] copy_X=True, fit_intercept=True, n_jobs=-1, normalize=True ......\n",
      "[CV]  copy_X=True, fit_intercept=True, n_jobs=-1, normalize=True, score=0.746, total=   0.0s\n",
      "[CV] copy_X=True, fit_intercept=True, n_jobs=-1, normalize=True ......\n",
      "[CV]  copy_X=True, fit_intercept=True, n_jobs=-1, normalize=True, score=0.756, total=   0.0s\n",
      "[CV] copy_X=True, fit_intercept=True, n_jobs=-1, normalize=True ......\n",
      "[CV]  copy_X=True, fit_intercept=True, n_jobs=-1, normalize=True, score=0.724, total=   0.0s\n",
      "[CV] copy_X=True, fit_intercept=True, n_jobs=-1, normalize=False .....\n",
      "[CV]  copy_X=True, fit_intercept=True, n_jobs=-1, normalize=False, score=0.746, total=   0.0s\n",
      "[CV] copy_X=True, fit_intercept=True, n_jobs=-1, normalize=False .....\n",
      "[CV]  copy_X=True, fit_intercept=True, n_jobs=-1, normalize=False, score=0.756, total=   0.0s\n",
      "[CV] copy_X=True, fit_intercept=True, n_jobs=-1, normalize=False .....\n",
      "[CV]  copy_X=True, fit_intercept=True, n_jobs=-1, normalize=False, score=0.724, total=   0.0s\n",
      "[CV] copy_X=True, fit_intercept=True, n_jobs=0, normalize=True .......\n",
      "[CV]  copy_X=True, fit_intercept=True, n_jobs=0, normalize=True, score=0.746, total=   0.0s\n",
      "[CV] copy_X=True, fit_intercept=True, n_jobs=0, normalize=True .......\n",
      "[CV]  copy_X=True, fit_intercept=True, n_jobs=0, normalize=True, score=0.756, total=   0.0s\n",
      "[CV] copy_X=True, fit_intercept=True, n_jobs=0, normalize=True .......\n",
      "[CV]  copy_X=True, fit_intercept=True, n_jobs=0, normalize=True, score=0.724, total=   0.0s\n",
      "[CV] copy_X=True, fit_intercept=True, n_jobs=0, normalize=False ......\n",
      "[CV]  copy_X=True, fit_intercept=True, n_jobs=0, normalize=False, score=0.746, total=   0.0s\n",
      "[CV] copy_X=True, fit_intercept=True, n_jobs=0, normalize=False ......\n",
      "[CV]  copy_X=True, fit_intercept=True, n_jobs=0, normalize=False, score=0.756, total=   0.0s\n",
      "[CV] copy_X=True, fit_intercept=True, n_jobs=0, normalize=False ......\n",
      "[CV]  copy_X=True, fit_intercept=True, n_jobs=0, normalize=False, score=0.724, total=   0.0s\n",
      "[CV] copy_X=True, fit_intercept=True, n_jobs=1, normalize=True .......\n",
      "[CV]  copy_X=True, fit_intercept=True, n_jobs=1, normalize=True, score=0.746, total=   0.0s\n",
      "[CV] copy_X=True, fit_intercept=True, n_jobs=1, normalize=True .......\n",
      "[CV]  copy_X=True, fit_intercept=True, n_jobs=1, normalize=True, score=0.756, total=   0.0s\n",
      "[CV] copy_X=True, fit_intercept=True, n_jobs=1, normalize=True .......\n",
      "[CV]  copy_X=True, fit_intercept=True, n_jobs=1, normalize=True, score=0.724, total=   0.0s\n",
      "[CV] copy_X=True, fit_intercept=True, n_jobs=1, normalize=False ......\n",
      "[CV]  copy_X=True, fit_intercept=True, n_jobs=1, normalize=False, score=0.746, total=   0.0s\n",
      "[CV] copy_X=True, fit_intercept=True, n_jobs=1, normalize=False ......\n",
      "[CV]  copy_X=True, fit_intercept=True, n_jobs=1, normalize=False, score=0.756, total=   0.0s\n",
      "[CV] copy_X=True, fit_intercept=True, n_jobs=1, normalize=False ......\n",
      "[CV]  copy_X=True, fit_intercept=True, n_jobs=1, normalize=False, score=0.724, total=   0.0s\n",
      "[CV] copy_X=True, fit_intercept=True, n_jobs=none, normalize=True ....\n",
      "[CV]  copy_X=True, fit_intercept=True, n_jobs=none, normalize=True, score=0.746, total=   0.0s\n",
      "[CV] copy_X=True, fit_intercept=True, n_jobs=none, normalize=True ....\n",
      "[CV]  copy_X=True, fit_intercept=True, n_jobs=none, normalize=True, score=0.756, total=   0.0s\n",
      "[CV] copy_X=True, fit_intercept=True, n_jobs=none, normalize=True ....\n",
      "[CV]  copy_X=True, fit_intercept=True, n_jobs=none, normalize=True, score=0.724, total=   0.0s\n",
      "[CV] copy_X=True, fit_intercept=True, n_jobs=none, normalize=False ...\n",
      "[CV]  copy_X=True, fit_intercept=True, n_jobs=none, normalize=False, score=0.746, total=   0.0s\n",
      "[CV] copy_X=True, fit_intercept=True, n_jobs=none, normalize=False ...\n",
      "[CV]  copy_X=True, fit_intercept=True, n_jobs=none, normalize=False, score=0.756, total=   0.0s\n",
      "[CV] copy_X=True, fit_intercept=True, n_jobs=none, normalize=False ...\n",
      "[CV]  copy_X=True, fit_intercept=True, n_jobs=none, normalize=False, score=0.724, total=   0.0s\n",
      "[CV] copy_X=True, fit_intercept=False, n_jobs=-1, normalize=True .....\n",
      "[CV]  copy_X=True, fit_intercept=False, n_jobs=-1, normalize=True, score=0.746, total=   0.0s\n",
      "[CV] copy_X=True, fit_intercept=False, n_jobs=-1, normalize=True .....\n",
      "[CV]  copy_X=True, fit_intercept=False, n_jobs=-1, normalize=True, score=0.756, total=   0.0s\n",
      "[CV] copy_X=True, fit_intercept=False, n_jobs=-1, normalize=True .....\n",
      "[CV]  copy_X=True, fit_intercept=False, n_jobs=-1, normalize=True, score=0.724, total=   0.0s\n",
      "[CV] copy_X=True, fit_intercept=False, n_jobs=-1, normalize=False ....\n",
      "[CV]  copy_X=True, fit_intercept=False, n_jobs=-1, normalize=False, score=0.746, total=   0.0s\n",
      "[CV] copy_X=True, fit_intercept=False, n_jobs=-1, normalize=False ....\n",
      "[CV]  copy_X=True, fit_intercept=False, n_jobs=-1, normalize=False, score=0.756, total=   0.0s\n",
      "[CV] copy_X=True, fit_intercept=False, n_jobs=-1, normalize=False ....\n",
      "[CV]  copy_X=True, fit_intercept=False, n_jobs=-1, normalize=False, score=0.724, total=   0.0s\n",
      "[CV] copy_X=True, fit_intercept=False, n_jobs=0, normalize=True ......\n",
      "[CV]  copy_X=True, fit_intercept=False, n_jobs=0, normalize=True, score=0.746, total=   0.0s\n",
      "[CV] copy_X=True, fit_intercept=False, n_jobs=0, normalize=True ......\n",
      "[CV]  copy_X=True, fit_intercept=False, n_jobs=0, normalize=True, score=0.756, total=   0.0s\n",
      "[CV] copy_X=True, fit_intercept=False, n_jobs=0, normalize=True ......\n",
      "[CV]  copy_X=True, fit_intercept=False, n_jobs=0, normalize=True, score=0.724, total=   0.0s\n",
      "[CV] copy_X=True, fit_intercept=False, n_jobs=0, normalize=False .....\n",
      "[CV]  copy_X=True, fit_intercept=False, n_jobs=0, normalize=False, score=0.746, total=   0.0s"
     ]
    },
    {
     "name": "stderr",
     "output_type": "stream",
     "text": [
      "C:\\Users\\Aaron\\Anaconda3\\lib\\site-packages\\sklearn\\model_selection\\_split.py:1978: FutureWarning: The default value of cv will change from 3 to 5 in version 0.22. Specify it explicitly to silence this warning.\n",
      "  warnings.warn(CV_WARNING, FutureWarning)\n",
      "[Parallel(n_jobs=1)]: Using backend SequentialBackend with 1 concurrent workers.\n",
      "[Parallel(n_jobs=1)]: Done   1 out of   1 | elapsed:    0.0s remaining:    0.0s\n",
      "[Parallel(n_jobs=1)]: Done   2 out of   2 | elapsed:    0.0s remaining:    0.0s\n"
     ]
    },
    {
     "name": "stdout",
     "output_type": "stream",
     "text": [
      "\n",
      "[CV] copy_X=True, fit_intercept=False, n_jobs=0, normalize=False .....\n",
      "[CV]  copy_X=True, fit_intercept=False, n_jobs=0, normalize=False, score=0.756, total=   0.0s\n",
      "[CV] copy_X=True, fit_intercept=False, n_jobs=0, normalize=False .....\n",
      "[CV]  copy_X=True, fit_intercept=False, n_jobs=0, normalize=False, score=0.724, total=   0.0s\n",
      "[CV] copy_X=True, fit_intercept=False, n_jobs=1, normalize=True ......\n",
      "[CV]  copy_X=True, fit_intercept=False, n_jobs=1, normalize=True, score=0.746, total=   0.0s\n",
      "[CV] copy_X=True, fit_intercept=False, n_jobs=1, normalize=True ......\n",
      "[CV]  copy_X=True, fit_intercept=False, n_jobs=1, normalize=True, score=0.756, total=   0.0s\n",
      "[CV] copy_X=True, fit_intercept=False, n_jobs=1, normalize=True ......\n",
      "[CV]  copy_X=True, fit_intercept=False, n_jobs=1, normalize=True, score=0.724, total=   0.0s\n",
      "[CV] copy_X=True, fit_intercept=False, n_jobs=1, normalize=False .....\n",
      "[CV]  copy_X=True, fit_intercept=False, n_jobs=1, normalize=False, score=0.746, total=   0.0s\n",
      "[CV] copy_X=True, fit_intercept=False, n_jobs=1, normalize=False .....\n",
      "[CV]  copy_X=True, fit_intercept=False, n_jobs=1, normalize=False, score=0.756, total=   0.0s\n",
      "[CV] copy_X=True, fit_intercept=False, n_jobs=1, normalize=False .....\n",
      "[CV]  copy_X=True, fit_intercept=False, n_jobs=1, normalize=False, score=0.724, total=   0.0s\n",
      "[CV] copy_X=True, fit_intercept=False, n_jobs=none, normalize=True ...\n",
      "[CV]  copy_X=True, fit_intercept=False, n_jobs=none, normalize=True, score=0.746, total=   0.0s\n",
      "[CV] copy_X=True, fit_intercept=False, n_jobs=none, normalize=True ...\n",
      "[CV]  copy_X=True, fit_intercept=False, n_jobs=none, normalize=True, score=0.756, total=   0.0s\n",
      "[CV] copy_X=True, fit_intercept=False, n_jobs=none, normalize=True ...\n",
      "[CV]  copy_X=True, fit_intercept=False, n_jobs=none, normalize=True, score=0.724, total=   0.0s\n",
      "[CV] copy_X=True, fit_intercept=False, n_jobs=none, normalize=False ..\n",
      "[CV]  copy_X=True, fit_intercept=False, n_jobs=none, normalize=False, score=0.746, total=   0.0s\n",
      "[CV] copy_X=True, fit_intercept=False, n_jobs=none, normalize=False ..\n",
      "[CV]  copy_X=True, fit_intercept=False, n_jobs=none, normalize=False, score=0.756, total=   0.0s\n",
      "[CV] copy_X=True, fit_intercept=False, n_jobs=none, normalize=False ..\n",
      "[CV]  copy_X=True, fit_intercept=False, n_jobs=none, normalize=False, score=0.724, total=   0.0s\n",
      "[CV] copy_X=False, fit_intercept=True, n_jobs=-1, normalize=True .....\n",
      "[CV]  copy_X=False, fit_intercept=True, n_jobs=-1, normalize=True, score=0.746, total=   0.0s\n",
      "[CV] copy_X=False, fit_intercept=True, n_jobs=-1, normalize=True .....\n",
      "[CV]  copy_X=False, fit_intercept=True, n_jobs=-1, normalize=True, score=0.756, total=   0.0s\n",
      "[CV] copy_X=False, fit_intercept=True, n_jobs=-1, normalize=True .....\n",
      "[CV]  copy_X=False, fit_intercept=True, n_jobs=-1, normalize=True, score=0.724, total=   0.0s\n",
      "[CV] copy_X=False, fit_intercept=True, n_jobs=-1, normalize=False ....\n",
      "[CV]  copy_X=False, fit_intercept=True, n_jobs=-1, normalize=False, score=0.746, total=   0.0s\n",
      "[CV] copy_X=False, fit_intercept=True, n_jobs=-1, normalize=False ....\n",
      "[CV]  copy_X=False, fit_intercept=True, n_jobs=-1, normalize=False, score=0.756, total=   0.0s\n",
      "[CV] copy_X=False, fit_intercept=True, n_jobs=-1, normalize=False ....\n",
      "[CV]  copy_X=False, fit_intercept=True, n_jobs=-1, normalize=False, score=0.724, total=   0.0s\n",
      "[CV] copy_X=False, fit_intercept=True, n_jobs=0, normalize=True ......\n",
      "[CV]  copy_X=False, fit_intercept=True, n_jobs=0, normalize=True, score=0.746, total=   0.0s\n",
      "[CV] copy_X=False, fit_intercept=True, n_jobs=0, normalize=True ......\n",
      "[CV]  copy_X=False, fit_intercept=True, n_jobs=0, normalize=True, score=0.756, total=   0.0s\n",
      "[CV] copy_X=False, fit_intercept=True, n_jobs=0, normalize=True ......\n",
      "[CV]  copy_X=False, fit_intercept=True, n_jobs=0, normalize=True, score=0.724, total=   0.0s\n",
      "[CV] copy_X=False, fit_intercept=True, n_jobs=0, normalize=False .....\n",
      "[CV]  copy_X=False, fit_intercept=True, n_jobs=0, normalize=False, score=0.746, total=   0.0s\n",
      "[CV] copy_X=False, fit_intercept=True, n_jobs=0, normalize=False .....\n",
      "[CV]  copy_X=False, fit_intercept=True, n_jobs=0, normalize=False, score=0.756, total=   0.0s\n",
      "[CV] copy_X=False, fit_intercept=True, n_jobs=0, normalize=False .....\n",
      "[CV]  copy_X=False, fit_intercept=True, n_jobs=0, normalize=False, score=0.724, total=   0.0s\n",
      "[CV] copy_X=False, fit_intercept=True, n_jobs=1, normalize=True ......\n",
      "[CV]  copy_X=False, fit_intercept=True, n_jobs=1, normalize=True, score=0.746, total=   0.0s\n",
      "[CV] copy_X=False, fit_intercept=True, n_jobs=1, normalize=True ......\n",
      "[CV]  copy_X=False, fit_intercept=True, n_jobs=1, normalize=True, score=0.756, total=   0.0s\n",
      "[CV] copy_X=False, fit_intercept=True, n_jobs=1, normalize=True ......\n",
      "[CV]  copy_X=False, fit_intercept=True, n_jobs=1, normalize=True, score=0.724, total=   0.0s\n",
      "[CV] copy_X=False, fit_intercept=True, n_jobs=1, normalize=False .....\n",
      "[CV]  copy_X=False, fit_intercept=True, n_jobs=1, normalize=False, score=0.746, total=   0.0s\n",
      "[CV] copy_X=False, fit_intercept=True, n_jobs=1, normalize=False .....\n",
      "[CV]  copy_X=False, fit_intercept=True, n_jobs=1, normalize=False, score=0.756, total=   0.0s\n",
      "[CV] copy_X=False, fit_intercept=True, n_jobs=1, normalize=False .....\n",
      "[CV]  copy_X=False, fit_intercept=True, n_jobs=1, normalize=False, score=0.724, total=   0.0s\n",
      "[CV] copy_X=False, fit_intercept=True, n_jobs=none, normalize=True ...\n",
      "[CV]  copy_X=False, fit_intercept=True, n_jobs=none, normalize=True, score=0.746, total=   0.0s\n",
      "[CV] copy_X=False, fit_intercept=True, n_jobs=none, normalize=True ...\n",
      "[CV]  copy_X=False, fit_intercept=True, n_jobs=none, normalize=True, score=0.756, total=   0.0s\n",
      "[CV] copy_X=False, fit_intercept=True, n_jobs=none, normalize=True ...\n",
      "[CV]  copy_X=False, fit_intercept=True, n_jobs=none, normalize=True, score=0.724, total=   0.0s\n",
      "[CV] copy_X=False, fit_intercept=True, n_jobs=none, normalize=False ..\n",
      "[CV]  copy_X=False, fit_intercept=True, n_jobs=none, normalize=False, score=0.746, total=   0.0s\n",
      "[CV] copy_X=False, fit_intercept=True, n_jobs=none, normalize=False ..\n",
      "[CV]  copy_X=False, fit_intercept=True, n_jobs=none, normalize=False, score=0.756, total=   0.0s\n",
      "[CV] copy_X=False, fit_intercept=True, n_jobs=none, normalize=False ..\n",
      "[CV]  copy_X=False, fit_intercept=True, n_jobs=none, normalize=False, score=0.724, total=   0.0s\n",
      "[CV] copy_X=False, fit_intercept=False, n_jobs=-1, normalize=True ....\n",
      "[CV]  copy_X=False, fit_intercept=False, n_jobs=-1, normalize=True, score=0.746, total=   0.0s\n",
      "[CV] copy_X=False, fit_intercept=False, n_jobs=-1, normalize=True ....\n",
      "[CV]  copy_X=False, fit_intercept=False, n_jobs=-1, normalize=True, score=0.756, total=   0.0s\n",
      "[CV] copy_X=False, fit_intercept=False, n_jobs=-1, normalize=True ....\n",
      "[CV]  copy_X=False, fit_intercept=False, n_jobs=-1, normalize=True, score=0.724, total=   0.0s\n",
      "[CV] copy_X=False, fit_intercept=False, n_jobs=-1, normalize=False ...\n",
      "[CV]  copy_X=False, fit_intercept=False, n_jobs=-1, normalize=False, score=0.746, total=   0.0s\n",
      "[CV] copy_X=False, fit_intercept=False, n_jobs=-1, normalize=False ...\n",
      "[CV]  copy_X=False, fit_intercept=False, n_jobs=-1, normalize=False, score=0.756, total=   0.0s\n",
      "[CV] copy_X=False, fit_intercept=False, n_jobs=-1, normalize=False ...\n",
      "[CV]  copy_X=False, fit_intercept=False, n_jobs=-1, normalize=False, score=0.724, total=   0.0s\n",
      "[CV] copy_X=False, fit_intercept=False, n_jobs=0, normalize=True .....\n",
      "[CV]  copy_X=False, fit_intercept=False, n_jobs=0, normalize=True, score=0.746, total=   0.0s\n",
      "[CV] copy_X=False, fit_intercept=False, n_jobs=0, normalize=True .....\n",
      "[CV]  copy_X=False, fit_intercept=False, n_jobs=0, normalize=True, score=0.756, total=   0.0s\n",
      "[CV] copy_X=False, fit_intercept=False, n_jobs=0, normalize=True .....\n",
      "[CV]  copy_X=False, fit_intercept=False, n_jobs=0, normalize=True, score=0.724, total=   0.0s\n",
      "[CV] copy_X=False, fit_intercept=False, n_jobs=0, normalize=False ....\n",
      "[CV]  copy_X=False, fit_intercept=False, n_jobs=0, normalize=False, score=0.746, total=   0.0s\n",
      "[CV] copy_X=False, fit_intercept=False, n_jobs=0, normalize=False ....\n",
      "[CV]  copy_X=False, fit_intercept=False, n_jobs=0, normalize=False, score=0.756, total=   0.0s\n",
      "[CV] copy_X=False, fit_intercept=False, n_jobs=0, normalize=False ....\n",
      "[CV]  copy_X=False, fit_intercept=False, n_jobs=0, normalize=False, score=0.724, total=   0.0s\n",
      "[CV] copy_X=False, fit_intercept=False, n_jobs=1, normalize=True .....\n",
      "[CV]  copy_X=False, fit_intercept=False, n_jobs=1, normalize=True, score=0.746, total=   0.0s\n",
      "[CV] copy_X=False, fit_intercept=False, n_jobs=1, normalize=True .....\n",
      "[CV]  copy_X=False, fit_intercept=False, n_jobs=1, normalize=True, score=0.756, total=   0.0s\n",
      "[CV] copy_X=False, fit_intercept=False, n_jobs=1, normalize=True .....\n",
      "[CV]  copy_X=False, fit_intercept=False, n_jobs=1, normalize=True, score=0.724, total=   0.0s\n",
      "[CV] copy_X=False, fit_intercept=False, n_jobs=1, normalize=False ....\n",
      "[CV]  copy_X=False, fit_intercept=False, n_jobs=1, normalize=False, score=0.746, total=   0.0s\n",
      "[CV] copy_X=False, fit_intercept=False, n_jobs=1, normalize=False ....\n",
      "[CV]  copy_X=False, fit_intercept=False, n_jobs=1, normalize=False, score=0.756, total=   0.0s\n",
      "[CV] copy_X=False, fit_intercept=False, n_jobs=1, normalize=False ....\n",
      "[CV]  copy_X=False, fit_intercept=False, n_jobs=1, normalize=False, score=0.724, total=   0.0s\n",
      "[CV] copy_X=False, fit_intercept=False, n_jobs=none, normalize=True ..\n",
      "[CV]  copy_X=False, fit_intercept=False, n_jobs=none, normalize=True, score=0.746, total=   0.0s\n",
      "[CV] copy_X=False, fit_intercept=False, n_jobs=none, normalize=True ..\n",
      "[CV]  copy_X=False, fit_intercept=False, n_jobs=none, normalize=True, score=0.756, total=   0.0s\n",
      "[CV] copy_X=False, fit_intercept=False, n_jobs=none, normalize=True ..\n",
      "[CV]  copy_X=False, fit_intercept=False, n_jobs=none, normalize=True, score=0.724, total=   0.0s\n",
      "[CV] copy_X=False, fit_intercept=False, n_jobs=none, normalize=False .\n",
      "[CV]  copy_X=False, fit_intercept=False, n_jobs=none, normalize=False, score=0.746, total=   0.0s\n",
      "[CV] copy_X=False, fit_intercept=False, n_jobs=none, normalize=False .\n",
      "[CV]  copy_X=False, fit_intercept=False, n_jobs=none, normalize=False, score=0.756, total=   0.0s\n",
      "[CV] copy_X=False, fit_intercept=False, n_jobs=none, normalize=False .\n",
      "[CV]  copy_X=False, fit_intercept=False, n_jobs=none, normalize=False, score=0.724, total=   0.0s\n"
     ]
    },
    {
     "name": "stderr",
     "output_type": "stream",
     "text": [
      "[Parallel(n_jobs=1)]: Done  96 out of  96 | elapsed:    0.3s finished\n"
     ]
    },
    {
     "data": {
      "text/plain": [
       "GridSearchCV(cv='warn', error_score='raise-deprecating',\n",
       "             estimator=LinearRegression(copy_X=True, fit_intercept=True,\n",
       "                                        n_jobs=None, normalize=False),\n",
       "             iid='warn', n_jobs=None,\n",
       "             param_grid={'copy_X': ['True', 'False'],\n",
       "                         'fit_intercept': ['True', 'False'],\n",
       "                         'n_jobs': [-1, 0, 1, 'none'],\n",
       "                         'normalize': ['True', 'False']},\n",
       "             pre_dispatch='2*n_jobs', refit=True, return_train_score=False,\n",
       "             scoring=None, verbose=3)"
      ]
     },
     "execution_count": 12,
     "metadata": {},
     "output_type": "execute_result"
    }
   ],
   "source": [
    "grid.fit(X_train,y_train)"
   ]
  },
  {
   "cell_type": "code",
   "execution_count": 13,
   "metadata": {},
   "outputs": [
    {
     "name": "stdout",
     "output_type": "stream",
     "text": [
      "{'copy_X': 'True', 'fit_intercept': 'True', 'n_jobs': -1, 'normalize': 'True'}\n"
     ]
    }
   ],
   "source": [
    "print(grid.best_params_)"
   ]
  },
  {
   "cell_type": "code",
   "execution_count": 14,
   "metadata": {},
   "outputs": [
    {
     "name": "stdout",
     "output_type": "stream",
     "text": [
      "0.7422274332047638\n"
     ]
    }
   ],
   "source": [
    "print(grid.best_score_)"
   ]
  },
  {
   "cell_type": "code",
   "execution_count": null,
   "metadata": {},
   "outputs": [],
   "source": []
  }
 ],
 "metadata": {
  "kernelspec": {
   "display_name": "Python 3",
   "language": "python",
   "name": "python3"
  },
  "language_info": {
   "codemirror_mode": {
    "name": "ipython",
    "version": 3
   },
   "file_extension": ".py",
   "mimetype": "text/x-python",
   "name": "python",
   "nbconvert_exporter": "python",
   "pygments_lexer": "ipython3",
   "version": "3.7.3"
  }
 },
 "nbformat": 4,
 "nbformat_minor": 4
}
