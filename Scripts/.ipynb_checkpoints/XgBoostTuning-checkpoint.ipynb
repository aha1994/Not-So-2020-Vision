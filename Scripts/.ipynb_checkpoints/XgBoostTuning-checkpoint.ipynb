{
 "cells": [
  {
   "cell_type": "code",
   "execution_count": 1,
   "metadata": {},
   "outputs": [],
   "source": [
    "# dependencies\n",
    "import warnings\n",
    "warnings.filterwarnings('ignore')\n",
    "import numpy as np\n",
    "import pandas as pd\n",
    "from datetime import datetime\n",
    "from sklearn.model_selection import RandomizedSearchCV, GridSearchCV\n",
    "import sklearn.metrics\n",
    "from sklearn.model_selection import StratifiedKFold\n",
    "from xgboost import XGBClassifier"
   ]
  },
  {
   "cell_type": "code",
   "execution_count": 2,
   "metadata": {},
   "outputs": [],
   "source": [
    "# function to time how long the parameter opt goes\n",
    "def timer(start_time=None):\n",
    "    if not start_time:\n",
    "        start_time = datetime.now()\n",
    "        return start_time\n",
    "    elif start_time:\n",
    "        thour, temp_sec = divmod((datetime.now() - start_time).total_seconds(), 3600)\n",
    "        tmin, tsec = divmod(temp_sec, 60)\n",
    "        print('\\n Time taken: %i hours %i minutes and %s seconds.' % (thour, tmin, round(tsec, 2)))"
   ]
  },
  {
   "cell_type": "code",
   "execution_count": 3,
   "metadata": {},
   "outputs": [
    {
     "data": {
      "text/html": [
       "<div>\n",
       "<style scoped>\n",
       "    .dataframe tbody tr th:only-of-type {\n",
       "        vertical-align: middle;\n",
       "    }\n",
       "\n",
       "    .dataframe tbody tr th {\n",
       "        vertical-align: top;\n",
       "    }\n",
       "\n",
       "    .dataframe thead th {\n",
       "        text-align: right;\n",
       "    }\n",
       "</style>\n",
       "<table border=\"1\" class=\"dataframe\">\n",
       "  <thead>\n",
       "    <tr style=\"text-align: right;\">\n",
       "      <th></th>\n",
       "      <th>State</th>\n",
       "      <th>ST</th>\n",
       "      <th>FIPS</th>\n",
       "      <th>County</th>\n",
       "      <th>Democrats 2016</th>\n",
       "      <th>Republicans 2016</th>\n",
       "      <th>Green 2016</th>\n",
       "      <th>Libertarians 2016</th>\n",
       "      <th>winner</th>\n",
       "      <th>poor_health</th>\n",
       "      <th>...</th>\n",
       "      <th>unemployment</th>\n",
       "      <th>children_poverty</th>\n",
       "      <th>income_inequality</th>\n",
       "      <th>single_parent</th>\n",
       "      <th>violent_crime</th>\n",
       "      <th>air_polution</th>\n",
       "      <th>non_hispanic_african_american</th>\n",
       "      <th>non_hispanic_white</th>\n",
       "      <th>not_proficient_english</th>\n",
       "      <th>household_income</th>\n",
       "    </tr>\n",
       "  </thead>\n",
       "  <tbody>\n",
       "    <tr>\n",
       "      <th>0</th>\n",
       "      <td>Alabama</td>\n",
       "      <td>AL</td>\n",
       "      <td>1001</td>\n",
       "      <td>Autauga County, Alabama</td>\n",
       "      <td>0.239569</td>\n",
       "      <td>0.734358</td>\n",
       "      <td>0.004258</td>\n",
       "      <td>0.021816</td>\n",
       "      <td>republican</td>\n",
       "      <td>0.194</td>\n",
       "      <td>...</td>\n",
       "      <td>0.059</td>\n",
       "      <td>0.181</td>\n",
       "      <td>4.303</td>\n",
       "      <td>0.273</td>\n",
       "      <td>253.645</td>\n",
       "      <td>12.92</td>\n",
       "      <td>0.185</td>\n",
       "      <td>0.756</td>\n",
       "      <td>0.005</td>\n",
       "      <td>54366</td>\n",
       "    </tr>\n",
       "    <tr>\n",
       "      <th>1</th>\n",
       "      <td>Alabama</td>\n",
       "      <td>AL</td>\n",
       "      <td>1003</td>\n",
       "      <td>Baldwin County, Alabama</td>\n",
       "      <td>0.195653</td>\n",
       "      <td>0.773515</td>\n",
       "      <td>0.004815</td>\n",
       "      <td>0.026018</td>\n",
       "      <td>republican</td>\n",
       "      <td>0.160</td>\n",
       "      <td>...</td>\n",
       "      <td>0.061</td>\n",
       "      <td>0.198</td>\n",
       "      <td>4.495</td>\n",
       "      <td>0.282</td>\n",
       "      <td>220.665</td>\n",
       "      <td>13.13</td>\n",
       "      <td>0.094</td>\n",
       "      <td>0.830</td>\n",
       "      <td>0.014</td>\n",
       "      <td>49626</td>\n",
       "    </tr>\n",
       "    <tr>\n",
       "      <th>2</th>\n",
       "      <td>Alabama</td>\n",
       "      <td>AL</td>\n",
       "      <td>1005</td>\n",
       "      <td>Barbour County, Alabama</td>\n",
       "      <td>0.466603</td>\n",
       "      <td>0.522714</td>\n",
       "      <td>0.001732</td>\n",
       "      <td>0.008951</td>\n",
       "      <td>republican</td>\n",
       "      <td>0.257</td>\n",
       "      <td>...</td>\n",
       "      <td>0.108</td>\n",
       "      <td>0.381</td>\n",
       "      <td>5.286</td>\n",
       "      <td>0.545</td>\n",
       "      <td>146.889</td>\n",
       "      <td>12.62</td>\n",
       "      <td>0.472</td>\n",
       "      <td>0.466</td>\n",
       "      <td>0.022</td>\n",
       "      <td>34971</td>\n",
       "    </tr>\n",
       "    <tr>\n",
       "      <th>3</th>\n",
       "      <td>Alabama</td>\n",
       "      <td>AL</td>\n",
       "      <td>1007</td>\n",
       "      <td>Bibb County, Alabama</td>\n",
       "      <td>0.214220</td>\n",
       "      <td>0.769662</td>\n",
       "      <td>0.001943</td>\n",
       "      <td>0.014175</td>\n",
       "      <td>republican</td>\n",
       "      <td>0.220</td>\n",
       "      <td>...</td>\n",
       "      <td>0.071</td>\n",
       "      <td>0.268</td>\n",
       "      <td>4.251</td>\n",
       "      <td>0.320</td>\n",
       "      <td>235.952</td>\n",
       "      <td>12.87</td>\n",
       "      <td>0.219</td>\n",
       "      <td>0.745</td>\n",
       "      <td>0.005</td>\n",
       "      <td>39546</td>\n",
       "    </tr>\n",
       "    <tr>\n",
       "      <th>4</th>\n",
       "      <td>Alabama</td>\n",
       "      <td>AL</td>\n",
       "      <td>1009</td>\n",
       "      <td>Blount County, Alabama</td>\n",
       "      <td>0.084699</td>\n",
       "      <td>0.898519</td>\n",
       "      <td>0.003506</td>\n",
       "      <td>0.013276</td>\n",
       "      <td>republican</td>\n",
       "      <td>0.207</td>\n",
       "      <td>...</td>\n",
       "      <td>0.061</td>\n",
       "      <td>0.241</td>\n",
       "      <td>4.124</td>\n",
       "      <td>0.283</td>\n",
       "      <td>219.034</td>\n",
       "      <td>12.66</td>\n",
       "      <td>0.016</td>\n",
       "      <td>0.878</td>\n",
       "      <td>0.018</td>\n",
       "      <td>45567</td>\n",
       "    </tr>\n",
       "  </tbody>\n",
       "</table>\n",
       "<p>5 rows × 28 columns</p>\n",
       "</div>"
      ],
      "text/plain": [
       "     State  ST  FIPS                   County  Democrats 2016  \\\n",
       "0  Alabama  AL  1001  Autauga County, Alabama        0.239569   \n",
       "1  Alabama  AL  1003  Baldwin County, Alabama        0.195653   \n",
       "2  Alabama  AL  1005  Barbour County, Alabama        0.466603   \n",
       "3  Alabama  AL  1007     Bibb County, Alabama        0.214220   \n",
       "4  Alabama  AL  1009   Blount County, Alabama        0.084699   \n",
       "\n",
       "   Republicans 2016  Green 2016  Libertarians 2016      winner  poor_health  \\\n",
       "0          0.734358    0.004258           0.021816  republican        0.194   \n",
       "1          0.773515    0.004815           0.026018  republican        0.160   \n",
       "2          0.522714    0.001732           0.008951  republican        0.257   \n",
       "3          0.769662    0.001943           0.014175  republican        0.220   \n",
       "4          0.898519    0.003506           0.013276  republican        0.207   \n",
       "\n",
       "   ...  unemployment  children_poverty  income_inequality  single_parent  \\\n",
       "0  ...         0.059             0.181              4.303          0.273   \n",
       "1  ...         0.061             0.198              4.495          0.282   \n",
       "2  ...         0.108             0.381              5.286          0.545   \n",
       "3  ...         0.071             0.268              4.251          0.320   \n",
       "4  ...         0.061             0.241              4.124          0.283   \n",
       "\n",
       "   violent_crime  air_polution  non_hispanic_african_american  \\\n",
       "0        253.645         12.92                          0.185   \n",
       "1        220.665         13.13                          0.094   \n",
       "2        146.889         12.62                          0.472   \n",
       "3        235.952         12.87                          0.219   \n",
       "4        219.034         12.66                          0.016   \n",
       "\n",
       "   non_hispanic_white  not_proficient_english  household_income  \n",
       "0               0.756                   0.005             54366  \n",
       "1               0.830                   0.014             49626  \n",
       "2               0.466                   0.022             34971  \n",
       "3               0.745                   0.005             39546  \n",
       "4               0.878                   0.018             45567  \n",
       "\n",
       "[5 rows x 28 columns]"
      ]
     },
     "execution_count": 3,
     "metadata": {},
     "output_type": "execute_result"
    }
   ],
   "source": [
    "# read in county data with pandas\n",
    "df2016 = pd.read_csv('../Data/Final Data/data2016.csv')\n",
    "df2019 = pd.read_csv('../Data/Final Data/data2019.csv')\n",
    "df2016.head()"
   ]
  },
  {
   "cell_type": "code",
   "execution_count": 4,
   "metadata": {},
   "outputs": [],
   "source": [
    "# assign inputs and output values\n",
    "X = df2016.iloc[:,9:]\n",
    "y = df2016.iloc[:,8]\n",
    "\n",
    "inputs = df2019.iloc[:,4:]"
   ]
  },
  {
   "cell_type": "code",
   "execution_count": 5,
   "metadata": {},
   "outputs": [],
   "source": [
    "# scikitlearn dependencies\n",
    "from sklearn.model_selection import train_test_split\n",
    "from sklearn.preprocessing import LabelEncoder\n",
    "\n",
    "# Step 1: Label-encode data set\n",
    "label_encoder = LabelEncoder()\n",
    "label_encoder.fit(y)\n",
    "encoded_y = label_encoder.transform(y)\n",
    "X_train, X_test, y_train, y_test = train_test_split(X, encoded_y, random_state=42)\n",
    "\n",
    "from tensorflow.keras.utils import to_categorical\n",
    "# One-hot encoding\n",
    "y_train_categorical = to_categorical(y_train)\n",
    "y_test_categorical = to_categorical(y_test)"
   ]
  },
  {
   "cell_type": "code",
   "execution_count": 6,
   "metadata": {},
   "outputs": [],
   "source": [
    "# A parameter grid for XGBoost\n",
    "params = {\n",
    "        'min_child_weight': [1, 5, 10],\n",
    "        'gamma': [0.5, 1, 1.5, 2, 5],\n",
    "        'subsample': [0.6, 0.8, 1.0],\n",
    "        'colsample_bytree': [0.6, 0.8, 1.0],\n",
    "        'max_depth': [3, 4, 5]\n",
    "        }"
   ]
  },
  {
   "cell_type": "code",
   "execution_count": 7,
   "metadata": {},
   "outputs": [],
   "source": [
    "# setting up model\n",
    "xgb = XGBClassifier(learning_rate=0.05, n_estimators=300, objective='binary:logistic',\n",
    "                    silent=True, nthread=1)"
   ]
  },
  {
   "cell_type": "code",
   "execution_count": 8,
   "metadata": {},
   "outputs": [
    {
     "name": "stdout",
     "output_type": "stream",
     "text": [
      "Fitting 5 folds for each of 5 candidates, totalling 25 fits\n"
     ]
    },
    {
     "name": "stderr",
     "output_type": "stream",
     "text": [
      "[Parallel(n_jobs=4)]: Using backend LokyBackend with 4 concurrent workers.\n",
      "[Parallel(n_jobs=4)]: Done  25 out of  25 | elapsed:    7.7s finished\n"
     ]
    },
    {
     "name": "stdout",
     "output_type": "stream",
     "text": [
      "\n",
      " Time taken: 0 hours 0 minutes and 8.8 seconds.\n"
     ]
    }
   ],
   "source": [
    "# simple paramter tuning to start off\n",
    "folds = 5\n",
    "param_comb = 5\n",
    "\n",
    "skf = StratifiedKFold(n_splits=folds, shuffle = True, random_state = 1001)\n",
    "\n",
    "random_search = RandomizedSearchCV(xgb, param_distributions=params, n_iter=param_comb, scoring='accuracy', n_jobs=4, cv=skf.split(X_train,y_train), verbose=3, random_state=1001 )\n",
    "\n",
    "# Here we go\n",
    "start_time = timer(None) # timing starts from this point for \"start_time\" variable\n",
    "random_search.fit(X_train, y_train)\n",
    "timer(start_time) # timing ends here for \"start_time\" variable"
   ]
  },
  {
   "cell_type": "code",
   "execution_count": 9,
   "metadata": {},
   "outputs": [
    {
     "name": "stdout",
     "output_type": "stream",
     "text": [
      "\n",
      " All results:\n",
      "{'mean_fit_time': array([0.75678191, 0.99836626, 0.94766092, 0.8206161 , 1.01570425]), 'std_fit_time': array([0.03371489, 0.03314471, 0.01345629, 0.0155626 , 0.09484075]), 'mean_score_time': array([0.00258613, 0.0065659 , 0.00738783, 0.003795  , 0.00578036]), 'std_score_time': array([0.0004981 , 0.00047718, 0.0007854 , 0.00073884, 0.00097416]), 'param_subsample': masked_array(data=[1.0, 0.6, 0.8, 1.0, 0.8],\n",
      "             mask=[False, False, False, False, False],\n",
      "       fill_value='?',\n",
      "            dtype=object), 'param_min_child_weight': masked_array(data=[5, 1, 5, 5, 1],\n",
      "             mask=[False, False, False, False, False],\n",
      "       fill_value='?',\n",
      "            dtype=object), 'param_max_depth': masked_array(data=[3, 5, 5, 5, 4],\n",
      "             mask=[False, False, False, False, False],\n",
      "       fill_value='?',\n",
      "            dtype=object), 'param_gamma': masked_array(data=[5, 1.5, 1, 5, 1],\n",
      "             mask=[False, False, False, False, False],\n",
      "       fill_value='?',\n",
      "            dtype=object), 'param_colsample_bytree': masked_array(data=[1.0, 0.8, 0.8, 0.6, 1.0],\n",
      "             mask=[False, False, False, False, False],\n",
      "       fill_value='?',\n",
      "            dtype=object), 'params': [{'subsample': 1.0, 'min_child_weight': 5, 'max_depth': 3, 'gamma': 5, 'colsample_bytree': 1.0}, {'subsample': 0.6, 'min_child_weight': 1, 'max_depth': 5, 'gamma': 1.5, 'colsample_bytree': 0.8}, {'subsample': 0.8, 'min_child_weight': 5, 'max_depth': 5, 'gamma': 1, 'colsample_bytree': 0.8}, {'subsample': 1.0, 'min_child_weight': 5, 'max_depth': 5, 'gamma': 5, 'colsample_bytree': 0.6}, {'subsample': 0.8, 'min_child_weight': 1, 'max_depth': 4, 'gamma': 1, 'colsample_bytree': 1.0}], 'split0_test_score': array([0.92291221, 0.93147752, 0.9379015 , 0.9379015 , 0.9379015 ]), 'split1_test_score': array([0.91630901, 0.93562232, 0.92274678, 0.93133047, 0.93133047]), 'split2_test_score': array([0.91845494, 0.92703863, 0.9248927 , 0.92274678, 0.93347639]), 'split3_test_score': array([0.93991416, 0.93991416, 0.94635193, 0.94635193, 0.93347639]), 'split4_test_score': array([0.93133047, 0.94420601, 0.93991416, 0.92703863, 0.93991416]), 'mean_test_score': array([0.92578293, 0.93564994, 0.93436293, 0.93307593, 0.93522094]), 'std_test_score': array([0.0087409 , 0.00604836, 0.00907242, 0.00831417, 0.00317579]), 'rank_test_score': array([5, 1, 3, 4, 2])}\n",
      "\n",
      " Best estimator:\n",
      "XGBClassifier(base_score=0.5, booster='gbtree', colsample_bylevel=1,\n",
      "              colsample_bynode=1, colsample_bytree=0.8, gamma=1.5,\n",
      "              learning_rate=0.05, max_delta_step=0, max_depth=5,\n",
      "              min_child_weight=1, missing=None, n_estimators=300, n_jobs=1,\n",
      "              nthread=1, objective='binary:logistic', random_state=0,\n",
      "              reg_alpha=0, reg_lambda=1, scale_pos_weight=1, seed=None,\n",
      "              silent=True, subsample=0.6, verbosity=1)\n",
      "\n",
      " Best normalized gini score for 5-fold search with 5 parameter combinations:\n",
      "0.8712998712998714\n",
      "\n",
      " Best hyperparameters:\n",
      "{'subsample': 0.6, 'min_child_weight': 1, 'max_depth': 5, 'gamma': 1.5, 'colsample_bytree': 0.8}\n"
     ]
    }
   ],
   "source": [
    "print('\\n All results:')\n",
    "print(random_search.cv_results_)\n",
    "print('\\n Best estimator:')\n",
    "print(random_search.best_estimator_)\n",
    "print('\\n Best normalized gini score for %d-fold search with %d parameter combinations:' % (folds, param_comb))\n",
    "print(random_search.best_score_ * 2 - 1)\n",
    "print('\\n Best hyperparameters:')\n",
    "print(random_search.best_params_)\n",
    "results = pd.DataFrame(random_search.cv_results_)\n",
    "results.to_csv('xgb-random-grid-search-results-01.csv', index=False)"
   ]
  },
  {
   "cell_type": "code",
   "execution_count": 10,
   "metadata": {},
   "outputs": [
    {
     "name": "stdout",
     "output_type": "stream",
     "text": [
      "Fitting 5 folds for each of 405 candidates, totalling 2025 fits\n"
     ]
    },
    {
     "name": "stderr",
     "output_type": "stream",
     "text": [
      "[Parallel(n_jobs=4)]: Using backend LokyBackend with 4 concurrent workers.\n",
      "[Parallel(n_jobs=4)]: Done  24 tasks      | elapsed:    4.0s\n",
      "[Parallel(n_jobs=4)]: Done 120 tasks      | elapsed:   24.6s\n",
      "[Parallel(n_jobs=4)]: Done 280 tasks      | elapsed:  1.0min\n",
      "[Parallel(n_jobs=4)]: Done 504 tasks      | elapsed:  1.9min\n",
      "[Parallel(n_jobs=4)]: Done 792 tasks      | elapsed:  3.1min\n",
      "[Parallel(n_jobs=4)]: Done 1144 tasks      | elapsed:  4.7min\n",
      "[Parallel(n_jobs=4)]: Done 1560 tasks      | elapsed:  6.8min\n",
      "[Parallel(n_jobs=4)]: Done 2025 out of 2025 | elapsed:  9.4min finished\n"
     ]
    },
    {
     "name": "stdout",
     "output_type": "stream",
     "text": [
      "\n",
      " Best parameters:\n",
      "{'colsample_bytree': 0.6, 'gamma': 1.5, 'max_depth': 5, 'min_child_weight': 1, 'subsample': 0.8}\n"
     ]
    },
    {
     "ename": "NameError",
     "evalue": "name 'test_df' is not defined",
     "output_type": "error",
     "traceback": [
      "\u001b[1;31m---------------------------------------------------------------------------\u001b[0m",
      "\u001b[1;31mNameError\u001b[0m                                 Traceback (most recent call last)",
      "\u001b[1;32m<ipython-input-10-9460dcf4153c>\u001b[0m in \u001b[0;36m<module>\u001b[1;34m\u001b[0m\n\u001b[0;32m      8\u001b[0m \u001b[1;33m\u001b[0m\u001b[0m\n\u001b[0;32m      9\u001b[0m \u001b[0my_test1\u001b[0m \u001b[1;33m=\u001b[0m \u001b[0mgrid\u001b[0m\u001b[1;33m.\u001b[0m\u001b[0mbest_estimator_\u001b[0m\u001b[1;33m.\u001b[0m\u001b[0mpredict_proba\u001b[0m\u001b[1;33m(\u001b[0m\u001b[0minputs\u001b[0m\u001b[1;33m)\u001b[0m\u001b[1;33m\u001b[0m\u001b[1;33m\u001b[0m\u001b[0m\n\u001b[1;32m---> 10\u001b[1;33m \u001b[0mresults_df\u001b[0m \u001b[1;33m=\u001b[0m \u001b[0mpd\u001b[0m\u001b[1;33m.\u001b[0m\u001b[0mDataFrame\u001b[0m\u001b[1;33m(\u001b[0m\u001b[0mdata\u001b[0m\u001b[1;33m=\u001b[0m\u001b[1;33m{\u001b[0m\u001b[1;34m'id'\u001b[0m\u001b[1;33m:\u001b[0m\u001b[0mtest_df\u001b[0m\u001b[1;33m[\u001b[0m\u001b[1;34m'id'\u001b[0m\u001b[1;33m]\u001b[0m\u001b[1;33m,\u001b[0m \u001b[1;34m'target'\u001b[0m\u001b[1;33m:\u001b[0m\u001b[0my_test1\u001b[0m\u001b[1;33m[\u001b[0m\u001b[1;33m:\u001b[0m\u001b[1;33m,\u001b[0m\u001b[1;36m1\u001b[0m\u001b[1;33m]\u001b[0m\u001b[1;33m}\u001b[0m\u001b[1;33m)\u001b[0m\u001b[1;33m\u001b[0m\u001b[1;33m\u001b[0m\u001b[0m\n\u001b[0m\u001b[0;32m     11\u001b[0m \u001b[0mresults_df\u001b[0m\u001b[1;33m.\u001b[0m\u001b[0mto_csv\u001b[0m\u001b[1;33m(\u001b[0m\u001b[1;34m'submission-grid-search-xgb-porto-01.csv'\u001b[0m\u001b[1;33m,\u001b[0m \u001b[0mindex\u001b[0m\u001b[1;33m=\u001b[0m\u001b[1;32mFalse\u001b[0m\u001b[1;33m)\u001b[0m\u001b[1;33m\u001b[0m\u001b[1;33m\u001b[0m\u001b[0m\n",
      "\u001b[1;31mNameError\u001b[0m: name 'test_df' is not defined"
     ]
    }
   ],
   "source": [
    "# fitting grid search\n",
    "grid = GridSearchCV(estimator=xgb, param_grid=params, scoring='accuracy', n_jobs=4, cv=skf.split(X_train,y_train), verbose=3 )\n",
    "grid.fit(X_train, y_train)\n",
    "\n",
    "print('\\n Best parameters:')\n",
    "print(grid.best_params_)\n",
    "results = pd.DataFrame(grid.cv_results_)\n",
    "results.to_csv('xgb-grid-search-results-01.csv', index=False)\n",
    "\n",
    "y_test1 = grid.best_estimator_.predict_proba(inputs)\n",
    "results_df = pd.DataFrame(data={'id':test_df['id'], 'target':y_test1[:,1]})\n",
    "results_df.to_csv('submission-grid-search-xgb-porto-01.csv', index=False)"
   ]
  },
  {
   "cell_type": "code",
   "execution_count": 11,
   "metadata": {},
   "outputs": [
    {
     "data": {
      "text/plain": [
       "XGBClassifier(base_score=0.5, booster='gbtree', colsample_bylevel=1,\n",
       "              colsample_bynode=1, colsample_bytree=0.8, gamma=1.5,\n",
       "              learning_rate=0.05, max_delta_step=0, max_depth=5,\n",
       "              min_child_weight=1, missing=None, n_estimators=300, n_jobs=1,\n",
       "              nthread=1, objective='binary:logistic', random_state=0,\n",
       "              reg_alpha=0, reg_lambda=1, scale_pos_weight=1, seed=None,\n",
       "              silent=True, subsample=0.6, verbosity=1)"
      ]
     },
     "execution_count": 11,
     "metadata": {},
     "output_type": "execute_result"
    }
   ],
   "source": [
    "# building model\n",
    "import xgboost as xgb\n",
    "model = xgb.XGBClassifier(base_score=0.5, booster='gbtree', colsample_bylevel=1,\n",
    "              colsample_bynode=1, colsample_bytree=0.8, gamma=1.5,\n",
    "              learning_rate=0.05, max_delta_step=0, max_depth=5,\n",
    "              min_child_weight=1, missing=None, n_estimators=300, n_jobs=1,\n",
    "              nthread=1, objective='binary:logistic', random_state=0,\n",
    "              reg_alpha=0, reg_lambda=1, scale_pos_weight=1, seed=None,\n",
    "              silent=True, subsample=0.6, verbosity=1)\n",
    "model"
   ]
  },
  {
   "cell_type": "code",
   "execution_count": 12,
   "metadata": {},
   "outputs": [
    {
     "data": {
      "text/plain": [
       "XGBClassifier(base_score=0.5, booster='gbtree', colsample_bylevel=1,\n",
       "              colsample_bynode=1, colsample_bytree=0.8, gamma=1.5,\n",
       "              learning_rate=0.05, max_delta_step=0, max_depth=5,\n",
       "              min_child_weight=1, missing=None, n_estimators=300, n_jobs=1,\n",
       "              nthread=1, objective='binary:logistic', random_state=0,\n",
       "              reg_alpha=0, reg_lambda=1, scale_pos_weight=1, seed=None,\n",
       "              silent=True, subsample=0.6, verbosity=1)"
      ]
     },
     "execution_count": 12,
     "metadata": {},
     "output_type": "execute_result"
    }
   ],
   "source": [
    "eval_set = [(X_train, y_train), (X_test, y_test)]\n",
    "model.fit(X_train, y_train, early_stopping_rounds=15, eval_metric=[\"error\", \"logloss\"], eval_set=eval_set,verbose=False)"
   ]
  },
  {
   "cell_type": "code",
   "execution_count": 13,
   "metadata": {},
   "outputs": [
    {
     "name": "stdout",
     "output_type": "stream",
     "text": [
      "Accuracy: 94.09%\n"
     ]
    }
   ],
   "source": [
    "# best result\n",
    "from sklearn.metrics import accuracy_score\n",
    "y_pred = model.predict(X_test)\n",
    "predictions = [round(value) for value in y_pred]\n",
    "\n",
    "# evaluate predictions\n",
    "accuracy = accuracy_score(y_test, predictions)\n",
    "print(\"Accuracy: %.2f%%\" % (accuracy * 100.0))"
   ]
  },
  {
   "cell_type": "code",
   "execution_count": 14,
   "metadata": {},
   "outputs": [],
   "source": [
    "# save model\n",
    "model.save_model('CountyVotingPredictor.h5')"
   ]
  },
  {
   "cell_type": "code",
   "execution_count": 15,
   "metadata": {},
   "outputs": [],
   "source": [
    "results = model.predict(inputs)"
   ]
  },
  {
   "cell_type": "code",
   "execution_count": 16,
   "metadata": {},
   "outputs": [
    {
     "data": {
      "text/plain": [
       "array([1, 1, 0, ..., 1, 1, 1])"
      ]
     },
     "execution_count": 16,
     "metadata": {},
     "output_type": "execute_result"
    }
   ],
   "source": [
    "results"
   ]
  },
  {
   "cell_type": "code",
   "execution_count": 17,
   "metadata": {},
   "outputs": [
    {
     "data": {
      "text/plain": [
       "3109"
      ]
     },
     "execution_count": 17,
     "metadata": {},
     "output_type": "execute_result"
    }
   ],
   "source": [
    "len(results)"
   ]
  },
  {
   "cell_type": "code",
   "execution_count": 18,
   "metadata": {},
   "outputs": [
    {
     "data": {
      "text/plain": [
       "2648"
      ]
     },
     "execution_count": 18,
     "metadata": {},
     "output_type": "execute_result"
    }
   ],
   "source": [
    "sum(results)"
   ]
  },
  {
   "cell_type": "code",
   "execution_count": null,
   "metadata": {},
   "outputs": [],
   "source": []
  },
  {
   "cell_type": "code",
   "execution_count": null,
   "metadata": {},
   "outputs": [],
   "source": []
  }
 ],
 "metadata": {
  "kernelspec": {
   "display_name": "Python 3",
   "language": "python",
   "name": "python3"
  },
  "language_info": {
   "codemirror_mode": {
    "name": "ipython",
    "version": 3
   },
   "file_extension": ".py",
   "mimetype": "text/x-python",
   "name": "python",
   "nbconvert_exporter": "python",
   "pygments_lexer": "ipython3",
   "version": "3.7.3"
  }
 },
 "nbformat": 4,
 "nbformat_minor": 4
}
